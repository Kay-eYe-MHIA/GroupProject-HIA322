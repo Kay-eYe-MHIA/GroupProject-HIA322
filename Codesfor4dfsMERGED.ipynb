{
 "cells": [
  {
   "cell_type": "code",
   "execution_count": 1,
   "id": "9eda869d-d7be-4281-86bc-4e7dd48ae1e2",
   "metadata": {},
   "outputs": [],
   "source": [
    "import pandas as pd"
   ]
  },
  {
   "cell_type": "code",
   "execution_count": 176,
   "id": "4260bb53-f5a5-40c3-9485-09aebaba98c6",
   "metadata": {},
   "outputs": [],
   "source": [
    "file_path = \"D:\\\\IMU\\\\Health Data Collection HIA322\\\\Project & Assignments\\\\Group Project\\\\checkin_merged_4dfs.csv\"  # Replace with the actual file path\n",
    "excel_file = pd.read_csv(file_path)"
   ]
  },
  {
   "cell_type": "code",
   "execution_count": 178,
   "id": "28f7aa1e-b444-4cdc-b710-fd47ed579c5f",
   "metadata": {},
   "outputs": [
    {
     "name": "stdout",
     "output_type": "stream",
     "text": [
      "        date  checkins  unique_ind  unique_loc     0     1     2     3     4  \\\n",
      "0  1/12/2020  17492265     6614474      630363  6395  4052  2611  2005  1660   \n",
      "1  2/12/2020  17695726     6667261      648752  6615  3957  2682  1974  1721   \n",
      "2  3/12/2020  17063123     6549583      645604  6920  3943  2936  2150  1755   \n",
      "3  4/12/2020  18350879     6803979      622383  7404  4759  3064  2223  1791   \n",
      "4  5/12/2020  19711082     6845366      573132  9520  5907  3871  2662  2181   \n",
      "\n",
      "      5  ...  cluster_import  cluster_religious  cluster_community  \\\n",
      "0  1574  ...             NaN                NaN                NaN   \n",
      "1  1581  ...             NaN                NaN                NaN   \n",
      "2  1490  ...             NaN                NaN                NaN   \n",
      "3  1699  ...             NaN                NaN                NaN   \n",
      "4  1769  ...             NaN                NaN                NaN   \n",
      "\n",
      "   cluster_highRisk  cluster_education  cluster_detentionCentre  \\\n",
      "0               NaN                NaN                      NaN   \n",
      "1               NaN                NaN                      NaN   \n",
      "2               NaN                NaN                      NaN   \n",
      "3               NaN                NaN                      NaN   \n",
      "4               NaN                NaN                      NaN   \n",
      "\n",
      "   cluster_workplace  casual_contacts  hide_large  hide_small  \n",
      "0                NaN              NaN         NaN         NaN  \n",
      "1                NaN              NaN         NaN         NaN  \n",
      "2                NaN              NaN         NaN         NaN  \n",
      "3                NaN              NaN         NaN         NaN  \n",
      "4                NaN              NaN         NaN         NaN  \n",
      "\n",
      "[5 rows x 85 columns]\n"
     ]
    }
   ],
   "source": [
    "print(excel_file.head())"
   ]
  },
  {
   "cell_type": "code",
   "execution_count": 180,
   "id": "5cb2abb3-9f1a-4b68-8b63-2a770ceedb18",
   "metadata": {},
   "outputs": [
    {
     "name": "stdout",
     "output_type": "stream",
     "text": [
      "<class 'pandas.core.frame.DataFrame'>\n",
      "RangeIndex: 560 entries, 0 to 559\n",
      "Data columns (total 85 columns):\n",
      " #   Column                   Non-Null Count  Dtype  \n",
      "---  ------                   --------------  -----  \n",
      " 0   date                     560 non-null    object \n",
      " 1   checkins                 560 non-null    int64  \n",
      " 2   unique_ind               560 non-null    int64  \n",
      " 3   unique_loc               560 non-null    int64  \n",
      " 4   0                        560 non-null    int64  \n",
      " 5   1                        560 non-null    int64  \n",
      " 6   2                        560 non-null    int64  \n",
      " 7   3                        560 non-null    int64  \n",
      " 8   4                        560 non-null    int64  \n",
      " 9   5                        560 non-null    int64  \n",
      " 10  6                        560 non-null    int64  \n",
      " 11  7                        560 non-null    int64  \n",
      " 12  8                        560 non-null    int64  \n",
      " 13  9                        560 non-null    int64  \n",
      " 14  10                       560 non-null    int64  \n",
      " 15  11                       560 non-null    int64  \n",
      " 16  12                       560 non-null    int64  \n",
      " 17  13                       560 non-null    int64  \n",
      " 18  14                       560 non-null    int64  \n",
      " 19  15                       560 non-null    int64  \n",
      " 20  16                       560 non-null    int64  \n",
      " 21  17                       560 non-null    int64  \n",
      " 22  18                       560 non-null    int64  \n",
      " 23  19                       560 non-null    int64  \n",
      " 24  20                       560 non-null    int64  \n",
      " 25  21                       560 non-null    int64  \n",
      " 26  22                       560 non-null    int64  \n",
      " 27  23                       560 non-null    int64  \n",
      " 28  24                       560 non-null    int64  \n",
      " 29  25                       560 non-null    int64  \n",
      " 30  26                       560 non-null    int64  \n",
      " 31  27                       560 non-null    int64  \n",
      " 32  28                       560 non-null    int64  \n",
      " 33  29                       560 non-null    int64  \n",
      " 34  30                       560 non-null    int64  \n",
      " 35  31                       560 non-null    int64  \n",
      " 36  32                       560 non-null    int64  \n",
      " 37  33                       560 non-null    int64  \n",
      " 38  34                       560 non-null    int64  \n",
      " 39  35                       560 non-null    int64  \n",
      " 40  36                       560 non-null    int64  \n",
      " 41  37                       560 non-null    int64  \n",
      " 42  38                       560 non-null    int64  \n",
      " 43  39                       560 non-null    int64  \n",
      " 44  40                       560 non-null    int64  \n",
      " 45  41                       560 non-null    int64  \n",
      " 46  42                       560 non-null    int64  \n",
      " 47  43                       560 non-null    int64  \n",
      " 48  44                       560 non-null    int64  \n",
      " 49  45                       560 non-null    int64  \n",
      " 50  46                       560 non-null    int64  \n",
      " 51  47                       560 non-null    int64  \n",
      " 52  cases_new                560 non-null    int64  \n",
      " 53  cases_import             560 non-null    int64  \n",
      " 54  cases_recovered          560 non-null    int64  \n",
      " 55  cases_active             560 non-null    int64  \n",
      " 56  cases_cluster            560 non-null    int64  \n",
      " 57  cases_unvax              560 non-null    int64  \n",
      " 58  cases_pvax               560 non-null    int64  \n",
      " 59  cases_fvax               560 non-null    int64  \n",
      " 60  cases_boost              560 non-null    int64  \n",
      " 61  cases_child              560 non-null    int64  \n",
      " 62  cases_adolescent         560 non-null    int64  \n",
      " 63  cases_adult              560 non-null    int64  \n",
      " 64  cases_elderly            560 non-null    int64  \n",
      " 65  cases_0_4                560 non-null    int64  \n",
      " 66  cases_5_11               560 non-null    int64  \n",
      " 67  cases_12_17              560 non-null    int64  \n",
      " 68  cases_18_29              560 non-null    int64  \n",
      " 69  cases_30_39              560 non-null    int64  \n",
      " 70  cases_40_49              560 non-null    int64  \n",
      " 71  cases_50_59              560 non-null    int64  \n",
      " 72  cases_60_69              560 non-null    int64  \n",
      " 73  cases_70_79              560 non-null    int64  \n",
      " 74  cases_80                 560 non-null    int64  \n",
      " 75  cluster_import           529 non-null    float64\n",
      " 76  cluster_religious        529 non-null    float64\n",
      " 77  cluster_community        529 non-null    float64\n",
      " 78  cluster_highRisk         529 non-null    float64\n",
      " 79  cluster_education        529 non-null    float64\n",
      " 80  cluster_detentionCentre  529 non-null    float64\n",
      " 81  cluster_workplace        529 non-null    float64\n",
      " 82  casual_contacts          423 non-null    float64\n",
      " 83  hide_large               373 non-null    float64\n",
      " 84  hide_small               373 non-null    float64\n",
      "dtypes: float64(10), int64(74), object(1)\n",
      "memory usage: 372.0+ KB\n"
     ]
    }
   ],
   "source": [
    "excel_file.info()"
   ]
  },
  {
   "cell_type": "code",
   "execution_count": 182,
   "id": "1e049c06-0421-4b7b-81b6-f6f791e98956",
   "metadata": {},
   "outputs": [
    {
     "data": {
      "text/plain": [
       "date                         0\n",
       "checkins                     0\n",
       "unique_ind                   0\n",
       "unique_loc                   0\n",
       "0                            0\n",
       "                          ... \n",
       "cluster_detentionCentre     31\n",
       "cluster_workplace           31\n",
       "casual_contacts            137\n",
       "hide_large                 187\n",
       "hide_small                 187\n",
       "Length: 85, dtype: int64"
      ]
     },
     "execution_count": 182,
     "metadata": {},
     "output_type": "execute_result"
    }
   ],
   "source": [
    "excel_file.isnull().sum()  # Check for missing values"
   ]
  },
  {
   "cell_type": "code",
   "execution_count": 235,
   "id": "2c61167e-896e-4eaa-a023-230c98766f37",
   "metadata": {},
   "outputs": [],
   "source": [
    "excel_file = excel_file.fillna({'cluster_detentionCentre': '0', 'cluster_workplace': '0','cluster_religious':'0','cluster_import':'0','cluster_community':'0','cluster_highRisk':'0','cluster_education':'0', 'casual_contacts': '0', 'hide_large': '0','hide_small': '0'})"
   ]
  },
  {
   "cell_type": "code",
   "execution_count": 225,
   "id": "143b5bcd-c106-4dd1-b407-a222c577fbd3",
   "metadata": {},
   "outputs": [
    {
     "data": {
      "text/plain": [
       "date                       0\n",
       "checkins                   0\n",
       "unique_ind                 0\n",
       "unique_loc                 0\n",
       "0                          0\n",
       "                          ..\n",
       "cluster_detentionCentre    0\n",
       "cluster_workplace          0\n",
       "casual_contacts            0\n",
       "hide_large                 0\n",
       "hide_small                 0\n",
       "Length: 85, dtype: int64"
      ]
     },
     "execution_count": 225,
     "metadata": {},
     "output_type": "execute_result"
    }
   ],
   "source": [
    "excel_file.isnull().sum()  # Check for missing values"
   ]
  },
  {
   "cell_type": "code",
   "execution_count": 188,
   "id": "fa4efc8f-717f-4729-9448-b1fee64287ad",
   "metadata": {},
   "outputs": [
    {
     "data": {
      "text/plain": [
       "1"
      ]
     },
     "execution_count": 188,
     "metadata": {},
     "output_type": "execute_result"
    }
   ],
   "source": [
    "excel_file.duplicated().sum()  # Check for duplicates"
   ]
  },
  {
   "cell_type": "code",
   "execution_count": 190,
   "id": "1738eb25-fe11-4b8b-aef7-40b3fa87557d",
   "metadata": {},
   "outputs": [
    {
     "name": "stdout",
     "output_type": "stream",
     "text": [
      "          date  checkins  unique_ind  unique_loc      0      1     2     3  \\\n",
      "340  5/11/2021  32039498    11242935      781268  22852  13257  9283  6988   \n",
      "\n",
      "        4     5  ...  cluster_import  cluster_religious  cluster_community  \\\n",
      "340  5796  5062  ...             0.0                0.0               60.0   \n",
      "\n",
      "     cluster_highRisk  cluster_education  cluster_detentionCentre  \\\n",
      "340               0.0               35.0                      0.0   \n",
      "\n",
      "     cluster_workplace  casual_contacts  hide_large  hide_small  \n",
      "340               59.0          30412.0        34.0       685.0  \n",
      "\n",
      "[1 rows x 85 columns]\n",
      "          date  checkins  unique_ind  unique_loc      0      1     2     3  \\\n",
      "339  5/11/2021  32039498    11242935      781268  22852  13257  9283  6988   \n",
      "340  5/11/2021  32039498    11242935      781268  22852  13257  9283  6988   \n",
      "\n",
      "        4     5  ...  cluster_import  cluster_religious  cluster_community  \\\n",
      "339  5796  5062  ...             0.0                0.0               60.0   \n",
      "340  5796  5062  ...             0.0                0.0               60.0   \n",
      "\n",
      "     cluster_highRisk  cluster_education  cluster_detentionCentre  \\\n",
      "339               0.0               35.0                      0.0   \n",
      "340               0.0               35.0                      0.0   \n",
      "\n",
      "     cluster_workplace  casual_contacts  hide_large  hide_small  \n",
      "339               59.0          30412.0        34.0       685.0  \n",
      "340               59.0          30412.0        34.0       685.0  \n",
      "\n",
      "[2 rows x 85 columns]\n"
     ]
    }
   ],
   "source": [
    "# Identify duplicated rows\n",
    "duplicates = excel_file[excel_file.duplicated()]\n",
    "print(duplicates)\n",
    "\n",
    "all_duplicates = excel_file[excel_file.duplicated(keep=False)]\n",
    "print(all_duplicates)"
   ]
  },
  {
   "cell_type": "code",
   "execution_count": 192,
   "id": "c8f3eda7-040d-4e41-a6aa-a872021fa614",
   "metadata": {},
   "outputs": [],
   "source": [
    "#to drop duplicated row\n",
    "excel_file = excel_file.drop_duplicates()"
   ]
  },
  {
   "cell_type": "code",
   "execution_count": 215,
   "id": "b9dca29e-2343-4457-9cfb-32d0fd0b4938",
   "metadata": {},
   "outputs": [
    {
     "data": {
      "text/plain": [
       "date                       0\n",
       "checkins                   0\n",
       "unique_ind                 0\n",
       "unique_loc                 0\n",
       "0                          0\n",
       "                          ..\n",
       "cluster_detentionCentre    0\n",
       "cluster_workplace          0\n",
       "casual_contacts            0\n",
       "hide_large                 0\n",
       "hide_small                 0\n",
       "Length: 85, dtype: int64"
      ]
     },
     "execution_count": 215,
     "metadata": {},
     "output_type": "execute_result"
    }
   ],
   "source": [
    "excel_file.isnull().sum()  # Check for missing values"
   ]
  },
  {
   "cell_type": "code",
   "execution_count": 237,
   "id": "f4693f69-2c3d-4eea-b114-c965c9889915",
   "metadata": {},
   "outputs": [
    {
     "name": "stdout",
     "output_type": "stream",
     "text": [
      "Cleaned data saved to D:\\IMU\\Health Data Collection HIA322\\Project & Assignments\\Group Project\\cleaned_data.csv\n"
     ]
    }
   ],
   "source": [
    "# Assuming 'excel_file' is your cleaned DataFrame\n",
    "cleaned_file_path = \"D:\\\\IMU\\\\Health Data Collection HIA322\\\\Project & Assignments\\\\Group Project\\\\cleaned_data.csv\"\n",
    "\n",
    "# Save the cleaned data to a CSV file\n",
    "excel_file.to_csv(cleaned_file_path, index=False)\n",
    "\n",
    "print(f\"Cleaned data saved to {cleaned_file_path}\")\n"
   ]
  },
  {
   "cell_type": "code",
   "execution_count": null,
   "id": "6786720d-6421-4a02-a446-85de0ea1da73",
   "metadata": {},
   "outputs": [],
   "source": []
  }
 ],
 "metadata": {
  "kernelspec": {
   "display_name": "Python 3 (ipykernel)",
   "language": "python",
   "name": "python3"
  },
  "language_info": {
   "codemirror_mode": {
    "name": "ipython",
    "version": 3
   },
   "file_extension": ".py",
   "mimetype": "text/x-python",
   "name": "python",
   "nbconvert_exporter": "python",
   "pygments_lexer": "ipython3",
   "version": "3.12.4"
  }
 },
 "nbformat": 4,
 "nbformat_minor": 5
}
